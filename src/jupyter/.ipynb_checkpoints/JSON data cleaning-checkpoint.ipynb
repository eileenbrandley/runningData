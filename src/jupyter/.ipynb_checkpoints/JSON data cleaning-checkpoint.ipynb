{
 "cells": [
  {
   "cell_type": "code",
   "execution_count": 1,
   "metadata": {},
   "outputs": [],
   "source": [
    "import json"
   ]
  },
  {
   "cell_type": "code",
   "execution_count": 2,
   "metadata": {},
   "outputs": [],
   "source": [
    "filepath = \"/Users/eileentoomer/Code/runningData/src/runningData/data/night10k2019.json\"\n",
    "fileToSave = \"/Users/eileentoomer/Code/runningData/src/runningData/data/night10k2019_transformed.json\"\n",
    "\n",
    "with open(filepath) as f:\n",
    "    data = json.load(f)"
   ]
  },
  {
   "cell_type": "markdown",
   "metadata": {},
   "source": [
    "#### Competitors:"
   ]
  },
  {
   "cell_type": "code",
   "execution_count": 3,
   "metadata": {},
   "outputs": [],
   "source": [
    "competitors = data['competitors']"
   ]
  },
  {
   "cell_type": "code",
   "execution_count": 4,
   "metadata": {},
   "outputs": [],
   "source": [
    "athletes = {}\n",
    "\n",
    "for c in competitors:\n",
    "    athletes[int(c['sortBib'])] = {\n",
    "        'name': \"{f} {s}\".format(f=c['firstName'], s=c['lastName']),\n",
    "        'teamId': c['teamId']\n",
    "    }\n",
    "    "
   ]
  },
  {
   "cell_type": "markdown",
   "metadata": {},
   "source": [
    "### Results"
   ]
  },
  {
   "cell_type": "code",
   "execution_count": 5,
   "metadata": {},
   "outputs": [],
   "source": [
    "def parseRaceTime(s):\n",
    "    t = [float(i) for i in s.split(':')]\n",
    "    if len(t) == 1:\n",
    "        return round(t[0], 2)\n",
    "    else:\n",
    "        return round(t[0]*60 + t[1], 2)"
   ]
  },
  {
   "cell_type": "code",
   "execution_count": 6,
   "metadata": {},
   "outputs": [],
   "source": [
    "def getAthleteRaceSplits(d):\n",
    "    splits = []\n",
    "    t0 = 0\n",
    "    for s in d['splits']:\n",
    "        t = parseRaceTime(s['elapsedTime'])\n",
    "        splits.append({\n",
    "            'lap': int(s['distance'] / 200),\n",
    "            'distance': s['distance'],\n",
    "            'seconds': t,\n",
    "            'elapsedTime': s['elapsedTime'],\n",
    "            'lapTime': t - t0\n",
    "        })\n",
    "        \n",
    "        t0 = t\n",
    "        \n",
    "    if splits[len(splits) - 1]['lap'] == 49:\n",
    "        t = parseRaceTime(d['performance'])\n",
    "        splits.append({\n",
    "            'lap': 50,\n",
    "            'distance': 10000,\n",
    "            'seconds': t,\n",
    "            'elapsedTime': d['performance'],\n",
    "            'lapTime': t - t0\n",
    "        })\n",
    "        \n",
    "    return splits   "
   ]
  },
  {
   "cell_type": "code",
   "execution_count": 7,
   "metadata": {},
   "outputs": [],
   "source": [
    "def getRaceSplits(data): \n",
    "    race_results = []\n",
    "    \n",
    "    for d in data:\n",
    "        print(d)\n",
    "        if (d['performance'] not in ['DNF', 'DNS']):\n",
    "            race_results.append({\n",
    "                'bib': int(d['bib']),\n",
    "                'athlete': athletes[int(d['bib'])]['name'],\n",
    "                'club': athletes[int(d['bib'])]['teamId'],\n",
    "                'performance': d['performance'],\n",
    "                'seconds': 'DNF' if d['performance'] in ['DNF', 'DNS'] else parseRaceTime(d['performance']),\n",
    "                'position': d['place'],\n",
    "                'splits': getAthleteRaceSplits(d)\n",
    "            })\n",
    "        \n",
    "    return race_results"
   ]
  },
  {
   "cell_type": "code",
   "execution_count": 8,
   "metadata": {},
   "outputs": [],
   "source": [
    "def addLapPositions(race):\n",
    "\n",
    "    elapsedTimes = {}\n",
    "    for a in race:\n",
    "        for l in a['splits']:\n",
    "            if l['lap'] in elapsedTimes.keys():\n",
    "                elapsedTimes[l['lap']].append(l['seconds'])\n",
    "            else:\n",
    "                elapsedTimes[l['lap']] = [l['seconds']]\n",
    "                \n",
    "    for k, v in elapsedTimes.items():\n",
    "        elapsedTimes[k].sort()\n",
    "\n",
    "    #for a in race:\n",
    "    for a in race:\n",
    "        for l in a['splits']:\n",
    "            currentPosition = elapsedTimes[l['lap']].index(l['seconds']) + 1\n",
    "            l.update({'currentPosition': currentPosition})\n",
    "            \n",
    "    return race\n",
    "        "
   ]
  },
  {
   "cell_type": "code",
   "execution_count": 9,
   "metadata": {},
   "outputs": [],
   "source": [
    "race = getRaceSplits(data['events'][8]['units'][0]['results'])\n",
    "race = addLapPositions(race)\n"
   ]
  },
  {
   "cell_type": "code",
   "execution_count": 10,
   "metadata": {},
   "outputs": [],
   "source": [
    "from operator import itemgetter\n",
    "newlist = sorted(race, key=itemgetter('position'))"
   ]
  },
  {
   "cell_type": "code",
   "execution_count": 11,
   "metadata": {},
   "outputs": [
    {
     "ename": "TypeError",
     "evalue": "'NoneType' object is not iterable",
     "output_type": "error",
     "traceback": [
      "\u001b[0;31m---------------------------------------------------------------------------\u001b[0m",
      "\u001b[0;31mTypeError\u001b[0m                                 Traceback (most recent call last)",
      "\u001b[0;32m<ipython-input-11-9f05b6a89a68>\u001b[0m in \u001b[0;36m<module>\u001b[0;34m()\u001b[0m\n\u001b[1;32m      5\u001b[0m \u001b[0;34m\u001b[0m\u001b[0m\n\u001b[1;32m      6\u001b[0m         \u001b[0mrace\u001b[0m \u001b[0;34m=\u001b[0m \u001b[0mgetRaceSplits\u001b[0m\u001b[0;34m(\u001b[0m\u001b[0md\u001b[0m\u001b[0;34m[\u001b[0m\u001b[0;34m'units'\u001b[0m\u001b[0;34m]\u001b[0m\u001b[0;34m[\u001b[0m\u001b[0;36m0\u001b[0m\u001b[0;34m]\u001b[0m\u001b[0;34m[\u001b[0m\u001b[0;34m'results'\u001b[0m\u001b[0;34m]\u001b[0m\u001b[0;34m)\u001b[0m\u001b[0;34m\u001b[0m\u001b[0;34m\u001b[0m\u001b[0m\n\u001b[0;32m----> 7\u001b[0;31m         \u001b[0mrace\u001b[0m \u001b[0;34m=\u001b[0m \u001b[0maddLapPositions\u001b[0m\u001b[0;34m(\u001b[0m\u001b[0mrace\u001b[0m\u001b[0;34m)\u001b[0m\u001b[0;34m\u001b[0m\u001b[0;34m\u001b[0m\u001b[0m\n\u001b[0m\u001b[1;32m      8\u001b[0m \u001b[0;34m\u001b[0m\u001b[0m\n\u001b[1;32m      9\u001b[0m         allRaceResults[r] = {\n",
      "\u001b[0;32m<ipython-input-8-15e35da17d90>\u001b[0m in \u001b[0;36maddLapPositions\u001b[0;34m(race)\u001b[0m\n\u001b[1;32m      3\u001b[0m     \u001b[0melapsedTimes\u001b[0m \u001b[0;34m=\u001b[0m \u001b[0;34m{\u001b[0m\u001b[0;34m}\u001b[0m\u001b[0;34m\u001b[0m\u001b[0;34m\u001b[0m\u001b[0m\n\u001b[1;32m      4\u001b[0m     \u001b[0;32mfor\u001b[0m \u001b[0ma\u001b[0m \u001b[0;32min\u001b[0m \u001b[0mrace\u001b[0m\u001b[0;34m:\u001b[0m\u001b[0;34m\u001b[0m\u001b[0;34m\u001b[0m\u001b[0m\n\u001b[0;32m----> 5\u001b[0;31m         \u001b[0;32mfor\u001b[0m \u001b[0ml\u001b[0m \u001b[0;32min\u001b[0m \u001b[0ma\u001b[0m\u001b[0;34m[\u001b[0m\u001b[0;34m'splits'\u001b[0m\u001b[0;34m]\u001b[0m\u001b[0;34m:\u001b[0m\u001b[0;34m\u001b[0m\u001b[0;34m\u001b[0m\u001b[0m\n\u001b[0m\u001b[1;32m      6\u001b[0m             \u001b[0;32mif\u001b[0m \u001b[0ml\u001b[0m\u001b[0;34m[\u001b[0m\u001b[0;34m'lap'\u001b[0m\u001b[0;34m]\u001b[0m \u001b[0;32min\u001b[0m \u001b[0melapsedTimes\u001b[0m\u001b[0;34m.\u001b[0m\u001b[0mkeys\u001b[0m\u001b[0;34m(\u001b[0m\u001b[0;34m)\u001b[0m\u001b[0;34m:\u001b[0m\u001b[0;34m\u001b[0m\u001b[0;34m\u001b[0m\u001b[0m\n\u001b[1;32m      7\u001b[0m                 \u001b[0melapsedTimes\u001b[0m\u001b[0;34m[\u001b[0m\u001b[0ml\u001b[0m\u001b[0;34m[\u001b[0m\u001b[0;34m'lap'\u001b[0m\u001b[0;34m]\u001b[0m\u001b[0;34m]\u001b[0m\u001b[0;34m.\u001b[0m\u001b[0mappend\u001b[0m\u001b[0;34m(\u001b[0m\u001b[0ml\u001b[0m\u001b[0;34m[\u001b[0m\u001b[0;34m'seconds'\u001b[0m\u001b[0;34m]\u001b[0m\u001b[0;34m)\u001b[0m\u001b[0;34m\u001b[0m\u001b[0;34m\u001b[0m\u001b[0m\n",
      "\u001b[0;31mTypeError\u001b[0m: 'NoneType' object is not iterable"
     ]
    }
   ],
   "source": [
    "allRaceResults = {}\n",
    "r = 0\n",
    "for d in data['events'][2:]:\n",
    "    if d['eventCode'] == '10000':\n",
    "    \n",
    "        race = getRaceSplits(d['units'][0]['results'])\n",
    "        race = addLapPositions(race)\n",
    "\n",
    "        allRaceResults[r] = {\n",
    "                'race': d['name'],\n",
    "                'splits': sorted(race, key=itemgetter('position'))\n",
    "        }\n",
    "        r += 1\n",
    "        "
   ]
  },
  {
   "cell_type": "code",
   "execution_count": null,
   "metadata": {},
   "outputs": [],
   "source": [
    "with open(fileToSave, 'w') as fp:\n",
    "    json.dump(allRaceResults, fp)"
   ]
  },
  {
   "cell_type": "code",
   "execution_count": null,
   "metadata": {},
   "outputs": [],
   "source": [
    "allRaceResults[6]['splits'][0]"
   ]
  },
  {
   "cell_type": "code",
   "execution_count": null,
   "metadata": {},
   "outputs": [],
   "source": [
    "import numpy as np\n",
    "\n",
    "def formatTime(t):\n",
    "    m = int(np.floor(t / 60))\n",
    "    s = round(t % 60, 2)\n",
    "    \n",
    "    if s < 10:\n",
    "        return f\"{m}:0{s}\"\n",
    "    else:\n",
    "        return f\"{m}:{s}\""
   ]
  },
  {
   "cell_type": "code",
   "execution_count": null,
   "metadata": {},
   "outputs": [],
   "source": [
    "athlete_positions = []\n",
    "athlete_names = []\n",
    "\n",
    "for a in allRaceResults[1]['splits']:\n",
    "    p0 = {'currentPosition': 0, 'seconds': 0}\n",
    "    name_list = a['athlete'].split(\" \")\n",
    "    n = \"\".join([a[0] for a in name_list])\n",
    "    if n in athlete_names:\n",
    "        n = \"\".join([name_list[0][0], name_list[1][0:2]])\n",
    "    athlete_names.append(n)\n",
    "    for i in range(9):\n",
    "        lap = (i)*5 + 4\n",
    "        p1 = a['splits'][lap]\n",
    "        t = formatTime(p1['seconds'] - p0['seconds'])\n",
    "        \n",
    "        athlete_positions.append([f\"{n} {(i)}km {n}\", f\"{n} {(i+1)}km\", 1, f\"{a['athlete']} ({t})\", lap, p0['currentPosition'], p1['currentPosition']])\n",
    "        \n",
    "        p0 = p1\n",
    "\n",
    "athlete_positions.sort(key=lambda k: (k[4], k[6]))\n",
    "[a[:4] for a in athlete_positions]\n",
    "        "
   ]
  },
  {
   "cell_type": "code",
   "execution_count": null,
   "metadata": {},
   "outputs": [],
   "source": []
  }
 ],
 "metadata": {
  "kernelspec": {
   "display_name": "Python 3",
   "language": "python",
   "name": "python3"
  },
  "language_info": {
   "codemirror_mode": {
    "name": "ipython",
    "version": 3
   },
   "file_extension": ".py",
   "mimetype": "text/x-python",
   "name": "python",
   "nbconvert_exporter": "python",
   "pygments_lexer": "ipython3",
   "version": "3.7.3"
  }
 },
 "nbformat": 4,
 "nbformat_minor": 2
}
